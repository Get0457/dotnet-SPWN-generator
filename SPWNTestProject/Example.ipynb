{
 "cells": [
  {
   "cell_type": "markdown",
   "metadata": {},
   "source": [
    "# Example usage notebook\n",
    "\n",
    "Welcome to .NET SPWN Generator. In here, we will show some examples of what can you do with this project.\n",
    "\n",
    "## Disclaimer\n",
    "We're not the developer of SPWN language. We're just implementing .NET Generator so that we'll have easier time working with the code with features like IntelliSense, or to combine this with various types of applications, such as WinForms, UWP, WinUi, etc.\n",
    "\n",
    "For more information about SPWN language check out their documentation https://spu7nix.net/spwn/#/ and their Github https://github.com/Spu7Nix/SPWN-language\n",
    "\n",
    "Also, pardon me for bad grammars/spellings/writing style."
   ]
  },
  {
   "cell_type": "markdown",
   "metadata": {},
   "source": [
    "## Importing\n",
    "And with disclaimer out of the way, the first thing to do is to add reference to the project.\n",
    "\n",
    "In Interactive Notebook, you need to add reference to the dll using this command.\n",
    "\n",
    "**Note: As of now the dll is not uploaded yet. You can, however, clone the project and build one yourself if you're very interested.**\n",
    "\n",
    "`#r \"..\\path\\to\\SPWN.dll\"`\n",
    "\n",
    "In Visual Studio, you can add the dll to the reference. I'm lazy to show the method right now. Might be added in the future."
   ]
  },
  {
   "cell_type": "code",
   "execution_count": null,
   "metadata": {
    "dotnet_interactive": {
     "language": "csharp"
    }
   },
   "outputs": [],
   "source": [
    "#r \"..\\SPWN\\bin\\Debug\\net6.0\\SPWN.dll\""
   ]
  },
  {
   "cell_type": "markdown",
   "metadata": {},
   "source": [
    "Then, import these name references to get started."
   ]
  },
  {
   "cell_type": "code",
   "execution_count": null,
   "metadata": {
    "dotnet_interactive": {
     "language": "csharp"
    }
   },
   "outputs": [],
   "source": [
    "using SPWN;\n",
    "using static SPWN.Utilities.Basics;"
   ]
  },
  {
   "cell_type": "markdown",
   "metadata": {},
   "source": [
    "## Basic Data Types Showcase"
   ]
  },
  {
   "cell_type": "markdown",
   "metadata": {},
   "source": [
    "The Data Types are listed in `SPWN.DataTypes` namespace.\n",
    "\n",
    "Note: We only recommend to use `using SPWN.DataTypes;` ONLY IF YOU'RE WORKING WITH SPWN GENERATOR CODE IN THAT FILE. Importing this might conflict with many built-in classes from System (like Is \"String\" from `SPWN.DataTypes.String` or `System.String`?).\n",
    "If you'd like to only use the namespace partially, we suggest that you fully qualify the type name and do not use \"using\" for that namespace. For example use `SPWN.DataTypes.String` instead of `using SPWN.DataTypes;` and `String`."
   ]
  },
  {
   "cell_type": "code",
   "execution_count": null,
   "metadata": {
    "dotnet_interactive": {
     "language": "csharp"
    }
   },
   "outputs": [],
   "source": [
    "using SPWN.DataTypes;"
   ]
  },
  {
   "cell_type": "markdown",
   "metadata": {},
   "source": [
    "You can create the group using `SPWN.DataTypes.Group.FromId()` or `new SPWN.DataTypes.Group()` (they are the same thing)"
   ]
  },
  {
   "cell_type": "code",
   "execution_count": null,
   "metadata": {
    "dotnet_interactive": {
     "language": "csharp"
    }
   },
   "outputs": [],
   "source": [
    "var group1 = new Group(1);\n",
    "var group2 = Group.FromId(2);\n",
    "var group3 = Group.FromId(3);\n",
    "\n",
    "// Fully qualify the name like this if you did not use \"using SPWN.DataTypes;\"\n",
    "var group4 = SPWN.DataTypes.Group.FromId(4);\n",
    "\n",
    "var nextFreeGroup = Group.NextFree();"
   ]
  },
  {
   "cell_type": "markdown",
   "metadata": {},
   "source": [
    "These instances represents the value. For example `group1` represents `g1` in SPWN, `group2` represents `g2`, and the same case with `group3` and `group4`"
   ]
  },
  {
   "cell_type": "code",
   "execution_count": null,
   "metadata": {
    "dotnet_interactive": {
     "language": "csharp"
    }
   },
   "outputs": [
    {
     "name": "stdout",
     "output_type": "stream",
     "text": [
      "1g\r\n",
      "2g\r\n",
      "3g\r\n",
      "4g\r\n",
      "?g\r\n"
     ]
    }
   ],
   "source": [
    "Console.WriteLine(group1);\n",
    "Console.WriteLine(group2);\n",
    "Console.WriteLine(group3);\n",
    "Console.WriteLine(group4);\n",
    "Console.WriteLine(nextFreeGroup);"
   ]
  },
  {
   "cell_type": "markdown",
   "metadata": {},
   "source": [
    "### Example 1\n",
    "We'll look at this simple example first. And we will break this down later."
   ]
  },
  {
   "cell_type": "code",
   "execution_count": null,
   "metadata": {
    "dotnet_interactive": {
     "language": "csharp"
    }
   },
   "outputs": [
    {
     "name": "stdout",
     "output_type": "stream",
     "text": [
      "// Example 1\n",
      "\n",
      "1g.follow(other = 2g,duration = 10)\n",
      "2g.follow(other = 4g)\n",
      "-> 1g.follow(other = 3g)\r\n"
     ]
    }
   ],
   "source": [
    "// Example 1\n",
    "SPWN.Generator.PrintToConsole(\n",
    "    new SPWN.Basics.SPWNCodes\n",
    "    {\n",
    "        Comment(\"Example 1\"),\n",
    "        NewLine(),\n",
    "\n",
    "        // Call the methods regularly\n",
    "        group1.Follow(group2, Duration: 10),\n",
    "        group2.Follow(group4),\n",
    "\n",
    "        RunParallel(group1.Follow(group3))\n",
    "    }\n",
    ");"
   ]
  },
  {
   "cell_type": "markdown",
   "metadata": {},
   "source": [
    "`SPWN.Basics.SPWNCodes` class is basically list of SPWN codes.\n",
    "Almost all the instances created by the classes in this project basically contains the string of the generated code."
   ]
  },
  {
   "cell_type": "code",
   "execution_count": null,
   "metadata": {
    "dotnet_interactive": {
     "language": "csharp"
    }
   },
   "outputs": [
    {
     "data": {
      "text/html": [
       "<i>(empty)</i>"
      ]
     },
     "metadata": {},
     "output_type": "display_data"
    }
   ],
   "source": [
    "new SPWN.Basics.SPWNCodes\n",
    "{\n",
    "    // Code\n",
    "}\n",
    "// Output says \"Empty\" since there's no code"
   ]
  },
  {
   "cell_type": "markdown",
   "metadata": {},
   "source": [
    "In `SPWN.Utilities.Basics` there are many classes that will assist you in making SPWN code.\n",
    "\n",
    "Note: Again for this one, we only recommend to use `using static SPWN.Utilities.Basics;` ONLY IF YOU'RE WORKING WITH SPWN GENERATOR CODE IN THAT FILE. Importing this might make you confuse C# Methods with the methods you need to use here.\n",
    "\n",
    "The methods that we used above includes\n",
    "* `Comment()`\n",
    "* `NewLine()`\n",
    "* `RunParallel()`"
   ]
  },
  {
   "cell_type": "code",
   "execution_count": null,
   "metadata": {
    "dotnet_interactive": {
     "language": "csharp"
    }
   },
   "outputs": [
    {
     "name": "stdout",
     "output_type": "stream",
     "text": [
      "[Example] Comment\r\n",
      "// Some Comment\r\n",
      "\r\n",
      "[Example] Start New Line\r\n",
      "\n",
      "\r\n",
      "[Example] End New Line\r\n",
      "\r\n",
      "[Example] Run Parallel\r\n",
      "1g.move_to(x = 10,y = 20)\r\n",
      "-> 1g.move_to(x = 10,y = 20)\r\n"
     ]
    }
   ],
   "source": [
    "// Comment\n",
    "Console.WriteLine(\"[Example] Comment\");\n",
    "// Example: Fully Qualify Name\n",
    "Console.WriteLine(SPWN.Utilities.Basics.Comment(\"Some Comment\"));\n",
    "Console.WriteLine(\"\");\n",
    "\n",
    "// New Line\n",
    "Console.WriteLine(\"[Example] Start New Line\");\n",
    "Console.WriteLine(NewLine(times: 2));\n",
    "Console.WriteLine(\"[Example] End New Line\");\n",
    "Console.WriteLine(\"\");\n",
    "\n",
    "// Run Parallel\n",
    "Console.WriteLine(\"[Example] Run Parallel\");\n",
    "Console.WriteLine(group1.MoveTo(X: 10, Y: 20));\n",
    "Console.WriteLine(RunParallel(group1.MoveTo(X: 10, Y: 20)));"
   ]
  },
  {
   "cell_type": "markdown",
   "metadata": {},
   "source": [
    "And lastly, `SPWN.Generator.PrintToConsole` (as of now) works basically like `Console.WriteLine`. However, you might need to use this method when the code gets more complicated.\n",
    "\n",
    "However, later on, when you're working with custom modules and classes, you will need to use this. **NOTE: Custom modules and classes is not fully implemented in this version yet.**"
   ]
  },
  {
   "cell_type": "code",
   "execution_count": null,
   "metadata": {
    "dotnet_interactive": {
     "language": "csharp"
    }
   },
   "outputs": [
    {
     "name": "stdout",
     "output_type": "stream",
     "text": [
      "// Example 1\n",
      "\n",
      "1g.follow(other = 2g,duration = 10)\n",
      "2g.follow(other = 4g)\n",
      "-> 1g.follow(other = 3g)\r\n"
     ]
    }
   ],
   "source": [
    "// Recall back Example 1 here again\n",
    "SPWN.Generator.PrintToConsole(\n",
    "    new SPWN.Basics.SPWNCodes\n",
    "    {\n",
    "        Comment(\"Example 1\"),\n",
    "        NewLine(),\n",
    "\n",
    "        // Call the methods regularly\n",
    "        group1.Follow(group2, Duration: 10),\n",
    "        group2.Follow(group4),\n",
    "\n",
    "        RunParallel(group1.Follow(group3))\n",
    "    }\n",
    ");"
   ]
  },
  {
   "cell_type": "markdown",
   "metadata": {},
   "source": [
    "## NOTE\n",
    "From now on, we will always use the full name in the example codes. This is because where the classes and methods came from will be clearer."
   ]
  },
  {
   "cell_type": "markdown",
   "metadata": {},
   "source": [
    "## Built-in and Run code showcase\n",
    "\n",
    "SPWN has built-in commands `$`. These are implemented in SPWN. However, in here, it is categorized into different categories.\n",
    "* `SPWN.Builtins.Arrays`\n",
    "* `SPWN.Builtins.Base64`\n",
    "* `SPWN.Builtins.CompileTime`\n",
    "* `SPWN.Builtins.GeometryDash`\n",
    "* `SPWN.Builtins.Math`\n",
    "* `SPWN.Builtins.Operator`\n",
    "* `SPWN.Builtins.Strings`"
   ]
  },
  {
   "cell_type": "markdown",
   "metadata": {},
   "source": [
    "### Example 2\n",
    "Usually, \"Hello World\" would be in the first example, but here, I put it on the second one. Why? I don't know ¯\\\\\\_(ツ)\\_/¯\n",
    "\n",
    "Showcase of `SPWN.Generator.WriteAndCompile` and `SPWN.Builtins.CompileTime.Print`\n",
    "\n",
    "**Note: `SPWN.Generator.WriteAndCompile` ONLY WORKS if you have SPWN installed in your computer!**\n",
    "\n",
    "**Link to SPWN Github: https://github.com/Spu7Nix/SPWN-language/**\n",
    "\n",
    "**Note 2: Typing something into the console is not yet supported! In other words, `SPWN.Builtins.CompileTime.GetInput()` or `$.get_input()` in SPWN or similar functions will cause issue on this function.**"
   ]
  },
  {
   "cell_type": "code",
   "execution_count": null,
   "metadata": {
    "dotnet_interactive": {
     "language": "csharp"
    }
   },
   "outputs": [
    {
     "name": "stdout",
     "output_type": "stream",
     "text": [
      "\u001b[0m\u001b[32mParsing ...\r\n",
      "\u001b[0m\u001b[0m\u001b[36mBuilding script ...\r\n",
      "\u001b[0m\u001b[0m\u001b[37m———————————————————————————\r\n",
      "\r\n",
      "\u001b[0mHello World!\r\n",
      "\u001b[0m\u001b[37m———————————————————————————\r\n",
      "\r\n",
      "\u001b[0m\u001b[0m\u001b[32mBuilt in 115 milliseconds!\r\n",
      "\u001b[0m\u001b[0m\u001b[37m0 objects added\r\n",
      "\u001b[0m\u001b[0m\u001b[35m\r\n",
      "Level:\r\n",
      "\u001b[0mOutput: \r\n",
      "\u001b[0m\r\n",
      "\r\n",
      "\r\n",
      "SPWN exited with code 0\r\n"
     ]
    }
   ],
   "source": [
    "SPWN.Generator.WriteAndCompile(\n",
    "    new SPWN.Basics.SPWNCodes\n",
    "    {\n",
    "        SPWN.Builtins.CompileTime.Print(new SPWN.DataTypes.String(\"Hello World!\"))\n",
    "    },\n",
    "    LevelConsoleOutput: true\n",
    ");"
   ]
  },
  {
   "cell_type": "code",
   "execution_count": null,
   "metadata": {
    "dotnet_interactive": {
     "language": "csharp"
    }
   },
   "outputs": [],
   "source": [
    "using System.IO;\n",
    "// Generator.WriteAndCompile will write some files. If you want to delete those files then...\n",
    "File.Delete(\"main.spwn\");"
   ]
  },
  {
   "cell_type": "markdown",
   "metadata": {},
   "source": [
    "## More examples coming up later on.\n",
    "If you wish to see other examples not-so-well-explained, here it is -> https://github.com/Get0457/dotnet-SPWN-generator/blob/master/SPWNTestProject/Program.cs"
   ]
  }
 ],
 "metadata": {
  "kernelspec": {
   "display_name": ".NET (C#)",
   "language": "C#",
   "name": ".net-csharp"
  },
  "language_info": {
   "name": "C#"
  }
 },
 "nbformat": 4,
 "nbformat_minor": 2
}
