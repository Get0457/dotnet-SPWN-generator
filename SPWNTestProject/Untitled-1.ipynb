{
 "cells": [
  {
   "cell_type": "code",
   "execution_count": null,
   "metadata": {
    "dotnet_interactive": {
     "language": "csharp"
    }
   },
   "outputs": [],
   "source": [
    "var path = @\"D:\\Comp\\Handwriting\\yolov5\\runs\\detect\\exp14\\labels\\\";"
   ]
  },
  {
   "cell_type": "code",
   "execution_count": null,
   "metadata": {
    "dotnet_interactive": {
     "language": "csharp"
    }
   },
   "outputs": [],
   "source": [
    "using System.IO;\n",
    "using System;\n",
    "using System.Collections.Generic;"
   ]
  },
  {
   "cell_type": "code",
   "execution_count": null,
   "metadata": {
    "dotnet_interactive": {
     "language": "csharp"
    }
   },
   "outputs": [],
   "source": [
    "var originalfn = Directory.GetFiles(@\"D:\\Comp\\Handwriting\\SmallTest\");\n",
    "var labels = Directory.GetFiles(path);"
   ]
  },
  {
   "cell_type": "code",
   "execution_count": null,
   "metadata": {
    "dotnet_interactive": {
     "language": "csharp"
    }
   },
   "outputs": [],
   "source": [
    "var output = \"Id,Predicted\\n\";"
   ]
  },
  {
   "cell_type": "code",
   "execution_count": null,
   "metadata": {
    "dotnet_interactive": {
     "language": "csharp"
    }
   },
   "outputs": [],
   "source": [
    "string Run(string labelPath) {\n",
    "    var suboutput = \"\";\n",
    "    var numbers = File.ReadAllText(labelPath).Split(\"\\n\");\n",
    "    var Values = numbers.AsEnumerable().Select<string,(int,double)?>(x => {\n",
    "        if (x.Trim() == \"\") return null;\n",
    "        var split = x.Split(\" \");\n",
    "        try {\n",
    "            var Class = Convert.ToInt32(split[0]);\n",
    "            var Position = Convert.ToDouble(split[1]);\n",
    "            return (Class, Position);\n",
    "        } catch (Exception) {\n",
    "            Console.WriteLine($\"Class = {split[0]}\");\n",
    "            Console.WriteLine($\"Position = {split[1]}\");\n",
    "            throw;\n",
    "        }\n",
    "    });\n",
    "\n",
    "    var list = new SortedList<string,int>();\n",
    "    foreach (var Value in Values) {\n",
    "        if (!Value.HasValue) continue;\n",
    "\n",
    "        var (Class,Position) = Value.Value;\n",
    "        var PositionString = Position.ToString();\n",
    "        \n",
    "        while (list.Keys.Any(x => x == PositionString))\n",
    "            PositionString += \"1\";\n",
    "\n",
    "        list.Add(PositionString, Class);\n",
    "    }\n",
    "\n",
    "    if (list.Count == 0) return \"\";\n",
    "    suboutput += $\"{new FileInfo(labelPath).Name.Split(\".\")[0]},\";\n",
    "\n",
    "    foreach (var Value in list.Values) {\n",
    "        suboutput += Value.ToString();\n",
    "    }\n",
    "    return suboutput;\n",
    "}"
   ]
  },
  {
   "cell_type": "code",
   "execution_count": null,
   "metadata": {
    "dotnet_interactive": {
     "language": "csharp"
    }
   },
   "outputs": [],
   "source": [
    "static class Extension {\n",
    "    public static IEnumerable<(int, T)> Enumerate<T>(IEnumerable<T> items) {\n",
    "        int i = 0;\n",
    "        foreach (var item in items) yield return (i++, item);\n",
    "    }\n",
    "}"
   ]
  },
  {
   "cell_type": "code",
   "execution_count": null,
   "metadata": {
    "dotnet_interactive": {
     "language": "csharp"
    }
   },
   "outputs": [],
   "source": [
    "output += string.Join(\"\\n\",(labels).Select(x => Run(x)));"
   ]
  },
  {
   "cell_type": "code",
   "execution_count": null,
   "metadata": {
    "dotnet_interactive": {
     "language": "csharp"
    }
   },
   "outputs": [],
   "source": [
    "output += \"\\n\";\n",
    "\n",
    "var sample = File.ReadAllLines(\"./sample_submission.csv\");\n",
    "\n",
    "for (var i = 0; i < sample.Length; i++) {\n",
    "    if (!output.Contains(sample[i].Split(\",\")[0]))\n",
    "        output += sample[i] + \"\\n\";\n",
    "}"
   ]
  },
  {
   "cell_type": "code",
   "execution_count": null,
   "metadata": {
    "dotnet_interactive": {
     "language": "csharp"
    }
   },
   "outputs": [],
   "source": [
    "File.WriteAllText(\"./file.csv\",output);"
   ]
  },
  {
   "cell_type": "code",
   "execution_count": null,
   "metadata": {
    "dotnet_interactive": {
     "language": "csharp"
    }
   },
   "outputs": [],
   "source": []
  }
 ],
 "metadata": {
  "kernelspec": {
   "display_name": ".NET (C#)",
   "language": "C#",
   "name": ".net-csharp"
  },
  "language_info": {
   "name": "C#"
  }
 },
 "nbformat": 4,
 "nbformat_minor": 2
}
