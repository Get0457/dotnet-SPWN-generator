{
 "cells": [
  {
   "cell_type": "markdown",
   "metadata": {},
   "source": [
    "# Example usage notebook\n",
    "\n",
    "Welcome to .NET SPWN Generator. In here, we will show some examples of what can you do with this project.\n",
    "\n",
    "## Disclaimer\n",
    "We're not the developer of SPWN language. We're just implementing .NET Generator so that we'll have easier time working with the code with features like IntelliSense, or to combine this with various types of applications, such as WinForms, UWP, WinUi, etc.\n",
    "\n",
    "For more information about SPWN language check out their documentation https://spu7nix.net/spwn/#/ and their Github https://github.com/Spu7Nix/SPWN-language\n",
    "\n",
    "Also, pardon me for bad grammars/spellings/writing style."
   ]
  },
  {
   "cell_type": "markdown",
   "metadata": {},
   "source": [
    "## Importing\n",
    "And with disclaimer out of the way, the first thing to do is to add reference to the project.\n",
    "\n",
    "In Interactive Notebook, you need to add reference to the dll using this command.\n",
    "\n",
    "*Note: You can get the .dll here -> https://github.com/Get0457/dotnet-SPWN-generator/releases/*\n",
    "\n",
    "`#r \".\\path\\to\\DotNetSPWNGenerator.dll\"`\n",
    "\n",
    "In Visual Studio, you can add the dll to the reference. I'm lazy to show the method right now. Might be added in the future."
   ]
  },
  {
   "cell_type": "code",
   "execution_count": null,
   "metadata": {
    "dotnet_interactive": {
     "language": "csharp"
    }
   },
   "outputs": [],
   "source": [
    "#r \".\\SPWN\\bin\\Release\\net6.0\\DotNetSPWNGenerator.dll\""
   ]
  },
  {
   "cell_type": "markdown",
   "metadata": {},
   "source": [
    "Then, import these name references to get started."
   ]
  },
  {
   "cell_type": "code",
   "execution_count": null,
   "metadata": {
    "dotnet_interactive": {
     "language": "csharp"
    }
   },
   "outputs": [],
   "source": [
    "using SPWN;\n",
    "using static SPWN.Utilities.Basics;"
   ]
  },
  {
   "cell_type": "markdown",
   "metadata": {},
   "source": [
    "## Basic Data Types Showcase"
   ]
  },
  {
   "cell_type": "markdown",
   "metadata": {},
   "source": [
    "The Data Types are listed in `SPWN.DataTypes` namespace.\n",
    "\n",
    "Note: We only recommend to use `using SPWN.DataTypes;` ONLY IF YOU'RE WORKING WITH SPWN GENERATOR CODE IN THAT FILE. Importing this might conflict with many built-in classes from System (like Is \"String\" from `SPWN.DataTypes.String` or `System.String`?).\n",
    "If you'd like to only use the namespace partially, we suggest that you fully qualify the type name and do not use \"using\" for that namespace. For example use `SPWN.DataTypes.String` instead of `using SPWN.DataTypes;` and `String`."
   ]
  },
  {
   "cell_type": "code",
   "execution_count": null,
   "metadata": {
    "dotnet_interactive": {
     "language": "csharp"
    }
   },
   "outputs": [],
   "source": [
    "using SPWN.DataTypes;"
   ]
  },
  {
   "cell_type": "markdown",
   "metadata": {},
   "source": [
    "You can create the group using `SPWN.DataTypes.Group.FromId()` or `new SPWN.DataTypes.Group()` (they are the same thing)"
   ]
  },
  {
   "cell_type": "code",
   "execution_count": null,
   "metadata": {
    "dotnet_interactive": {
     "language": "csharp"
    }
   },
   "outputs": [],
   "source": [
    "var group1 = new Group(1);\n",
    "var group2 = Group.FromId(2);\n",
    "var group3 = Group.FromId(3);\n",
    "\n",
    "// Fully qualify the name like this if you did not use \"using SPWN.DataTypes;\"\n",
    "var group4 = SPWN.DataTypes.Group.FromId(4);\n",
    "\n",
    "var nextFreeGroup = Group.NextFree();"
   ]
  },
  {
   "cell_type": "markdown",
   "metadata": {},
   "source": [
    "These instances represents the value. For example `group1` represents `g1` in SPWN, `group2` represents `g2`, and the same case with `group3` and `group4`"
   ]
  },
  {
   "cell_type": "code",
   "execution_count": null,
   "metadata": {
    "dotnet_interactive": {
     "language": "csharp"
    }
   },
   "outputs": [
    {
     "name": "stdout",
     "output_type": "stream",
     "text": [
      "1g\r\n",
      "2g\r\n",
      "3g\r\n",
      "4g\r\n",
      "?g\r\n"
     ]
    }
   ],
   "source": [
    "Console.WriteLine(group1);\n",
    "Console.WriteLine(group2);\n",
    "Console.WriteLine(group3);\n",
    "Console.WriteLine(group4);\n",
    "Console.WriteLine(nextFreeGroup);"
   ]
  },
  {
   "cell_type": "markdown",
   "metadata": {},
   "source": [
    "**Note: if you use `Group.NextFree()`, you need to create it as a variable. Because `?g` defined in one place and `?g` defined in another can refer to completely different group.**\n",
    "\n",
    "**Below, we showed how to create the in SPWN context**"
   ]
  },
  {
   "cell_type": "markdown",
   "metadata": {},
   "source": [
    "### Example 1\n",
    "We'll look at this simple example first. And we will break this down later."
   ]
  },
  {
   "cell_type": "code",
   "execution_count": null,
   "metadata": {
    "dotnet_interactive": {
     "language": "csharp"
    }
   },
   "outputs": [
    {
     "name": "stdout",
     "output_type": "stream",
     "text": [
      "// Example 1\n",
      "\n",
      "1g.follow(other = 2g,duration = 10)\n",
      "2g.follow(other = 4g)\n",
      "-> 1g.follow(other = 3g)\r\n"
     ]
    }
   ],
   "source": [
    "// Example 1\n",
    "SPWN.Generator.PrintToConsole(\n",
    "    new SPWN.Basics.SPWNCodes\n",
    "    {\n",
    "        Comment(\"Example 1\"),\n",
    "        NewLine(),\n",
    "\n",
    "        // Call the methods regularly\n",
    "        group1.Follow(group2, Duration: 10),\n",
    "        group2.Follow(group4),\n",
    "\n",
    "        RunParallel(group1.Follow(group3))\n",
    "    }\n",
    ");"
   ]
  },
  {
   "cell_type": "markdown",
   "metadata": {},
   "source": [
    "`SPWN.Basics.SPWNCodes` class is basically list of SPWN codes.\n",
    "Almost all the instances created by the classes in this project basically contains the string of the generated code."
   ]
  },
  {
   "cell_type": "code",
   "execution_count": null,
   "metadata": {
    "dotnet_interactive": {
     "language": "csharp"
    }
   },
   "outputs": [
    {
     "data": {
      "text/html": [
       "<i>(empty)</i>"
      ]
     },
     "metadata": {},
     "output_type": "display_data"
    }
   ],
   "source": [
    "new SPWN.Basics.SPWNCodes\n",
    "{\n",
    "    // Code\n",
    "}\n",
    "// Output says \"Empty\" since there's no code"
   ]
  },
  {
   "cell_type": "markdown",
   "metadata": {},
   "source": [
    "In `SPWN.Utilities.Basics` there are many classes that will assist you in making SPWN code.\n",
    "\n",
    "Note: Again for this one, we only recommend to use `using static SPWN.Utilities.Basics;` ONLY IF YOU'RE WORKING WITH SPWN GENERATOR CODE IN THAT FILE. Importing this might make you confuse C# Methods with the methods you need to use here.\n",
    "\n",
    "The methods that we used above includes\n",
    "* `Comment()`\n",
    "* `NewLine()`\n",
    "* `RunParallel()`"
   ]
  },
  {
   "cell_type": "code",
   "execution_count": null,
   "metadata": {
    "dotnet_interactive": {
     "language": "csharp"
    }
   },
   "outputs": [
    {
     "name": "stdout",
     "output_type": "stream",
     "text": [
      "[Example] Comment\r\n",
      "// Some Comment\r\n",
      "\r\n",
      "[Example] Start New Line\r\n",
      "\n",
      "\r\n",
      "[Example] End New Line\r\n",
      "\r\n",
      "[Example] Run Parallel\r\n",
      "1g.move_to(x = 10,y = 20)\r\n",
      "-> 1g.move_to(x = 10,y = 20)\r\n"
     ]
    }
   ],
   "source": [
    "// Comment\n",
    "Console.WriteLine(\"[Example] Comment\");\n",
    "// Example: Fully Qualify Name\n",
    "Console.WriteLine(SPWN.Utilities.Basics.Comment(\"Some Comment\"));\n",
    "Console.WriteLine(\"\");\n",
    "\n",
    "// New Line\n",
    "Console.WriteLine(\"[Example] Start New Line\");\n",
    "Console.WriteLine(NewLine(times: 2));\n",
    "Console.WriteLine(\"[Example] End New Line\");\n",
    "Console.WriteLine(\"\");\n",
    "\n",
    "// Run Parallel\n",
    "Console.WriteLine(\"[Example] Run Parallel\");\n",
    "Console.WriteLine(group1.MoveTo(X: 10, Y: 20));\n",
    "Console.WriteLine(RunParallel(group1.MoveTo(X: 10, Y: 20)));"
   ]
  },
  {
   "cell_type": "markdown",
   "metadata": {},
   "source": [
    "And lastly, `SPWN.Generator.PrintToConsole` (as of now) works basically like `Console.WriteLine`. However, you might need to use this method when the code gets more complicated.\n",
    "\n",
    "However, later on, when you're working with custom modules and classes, you will need to use this. **NOTE: Custom modules and classes is not fully implemented in this version yet.**"
   ]
  },
  {
   "cell_type": "code",
   "execution_count": null,
   "metadata": {
    "dotnet_interactive": {
     "language": "csharp"
    }
   },
   "outputs": [
    {
     "name": "stdout",
     "output_type": "stream",
     "text": [
      "// Example 1\n",
      "\n",
      "1g.follow(other = 2g,duration = 10)\n",
      "2g.follow(other = 4g)\n",
      "-> 1g.follow(other = 3g)\r\n"
     ]
    }
   ],
   "source": [
    "// Recall back Example 1 here again\n",
    "SPWN.Generator.PrintToConsole(\n",
    "    new SPWN.Basics.SPWNCodes\n",
    "    {\n",
    "        Comment(\"Example 1\"),\n",
    "        NewLine(),\n",
    "\n",
    "        // Call the methods regularly\n",
    "        group1.Follow(group2, Duration: 10),\n",
    "        group2.Follow(group4),\n",
    "\n",
    "        RunParallel(group1.Follow(group3))\n",
    "    }\n",
    ");"
   ]
  },
  {
   "cell_type": "markdown",
   "metadata": {},
   "source": [
    "## NOTE\n",
    "From now on, we will always use the full name in the example codes. This is because where the classes and methods came from will be clearer."
   ]
  },
  {
   "cell_type": "markdown",
   "metadata": {},
   "source": [
    "## Built-in and Run code showcase\n",
    "\n",
    "SPWN has built-in commands `$`. These are implemented in SPWN. However, in here, it is categorized into different categories.\n",
    "* `SPWN.Builtins.Arrays`\n",
    "* `SPWN.Builtins.Base64`\n",
    "* `SPWN.Builtins.CompileTime`\n",
    "* `SPWN.Builtins.GeometryDash`\n",
    "* `SPWN.Builtins.Math`\n",
    "* `SPWN.Builtins.Operator`\n",
    "* `SPWN.Builtins.Strings`"
   ]
  },
  {
   "cell_type": "markdown",
   "metadata": {},
   "source": [
    "### Example 2\n",
    "Usually, \"Hello World\" would be in the first example, but here, I put it on the second one. Why? I don't know ¯\\\\\\_(ツ)\\_/¯\n",
    "\n",
    "Showcase of `SPWN.Generator.WriteAndCompile` and `SPWN.Builtins.CompileTime.Print`\n",
    "\n",
    "**Note: `SPWN.Generator.WriteAndCompile` ONLY WORKS if you have SPWN installed in your computer!**\n",
    "\n",
    "**Link to SPWN Github: https://github.com/Spu7Nix/SPWN-language/**\n",
    "\n",
    "**Note 2: Typing something into the console is not yet supported! In other words, `SPWN.Builtins.CompileTime.GetInput()` or `$.get_input()` in SPWN or similar functions will cause issue on this function.**"
   ]
  },
  {
   "cell_type": "code",
   "execution_count": null,
   "metadata": {
    "dotnet_interactive": {
     "language": "csharp"
    }
   },
   "outputs": [
    {
     "name": "stdout",
     "output_type": "stream",
     "text": [
      "\u001b[0m\u001b[32mParsing ...\r\n",
      "\u001b[0m\u001b[0m\u001b[36mBuilding script ...\r\n",
      "\u001b[0m\u001b[0m\u001b[37m———————————————————————————\r\n",
      "\r\n",
      "\u001b[0mHello World!\r\n",
      "\u001b[0m\u001b[37m———————————————————————————\r\n",
      "\r\n",
      "\u001b[0m\u001b[0m\u001b[32mBuilt in 89 milliseconds!\r\n",
      "\u001b[0m\u001b[0m\u001b[37m0 objects added\r\n",
      "\u001b[0m\u001b[0m\u001b[35m\r\n",
      "Level:\r\n",
      "\u001b[0mOutput: \r\n",
      "\u001b[0m\r\n",
      "\r\n",
      "\r\n",
      "SPWN exited with code 0\r\n"
     ]
    }
   ],
   "source": [
    "SPWN.Generator.WriteAndCompile(\n",
    "    new SPWN.Basics.SPWNCodes\n",
    "    {\n",
    "        SPWN.Builtins.CompileTime.Print(new SPWN.DataTypes.String(\"Hello World!\"))\n",
    "    },\n",
    "    LevelConsoleOutput: true,\n",
    "    WaitForExit: true\n",
    ");"
   ]
  },
  {
   "cell_type": "code",
   "execution_count": null,
   "metadata": {
    "dotnet_interactive": {
     "language": "csharp"
    }
   },
   "outputs": [],
   "source": [
    "// Generator.WriteAndCompile will write some files on the working directory. If you want to delete those files then...\n",
    "System.IO.File.Delete(\"main.spwn\");"
   ]
  },
  {
   "cell_type": "markdown",
   "metadata": {},
   "source": [
    "## Variables\n",
    "You may have already notice that "
   ]
  },
  {
   "cell_type": "code",
   "execution_count": null,
   "metadata": {
    "dotnet_interactive": {
     "language": "csharp"
    }
   },
   "outputs": [],
   "source": [
    "var group1 = new SPWN.DataTypes.Group(1);"
   ]
  },
  {
   "cell_type": "markdown",
   "metadata": {},
   "source": [
    "turns into"
   ]
  },
  {
   "cell_type": "code",
   "execution_count": null,
   "metadata": {
    "dotnet_interactive": {
     "language": "csharp"
    }
   },
   "outputs": [
    {
     "data": {
      "text/plain": [
       "1g"
      ]
     },
     "metadata": {},
     "output_type": "display_data"
    }
   ],
   "source": [
    "group1.ToString()"
   ]
  },
  {
   "cell_type": "markdown",
   "metadata": {},
   "source": [
    "And `1g` is a value, not a variable. Fortunately, there is a way of creating a variable using this function.\n",
    "\n",
    "Both of these are in `SPWN.Utilities.Basics`\n",
    "\n",
    "`public static SPWNCode CreateConstantVariable<T>(string VariableName, [CodeAnalysis.NotNull] out T Constant, T Value) where T : SPWNValueBase, ICanBeConstant`\n",
    "\n",
    "`public static SPWNCode CreateMutableVariable<T>(string VariableName, [CodeAnalysis.NotNull] out Variable<T> Variable, T Value) where T : SPWNValueBase, ICanBeMutable`"
   ]
  },
  {
   "cell_type": "markdown",
   "metadata": {},
   "source": [
    "### Example 3\n",
    "Let's look at this example of using constant variable"
   ]
  },
  {
   "cell_type": "code",
   "execution_count": null,
   "metadata": {
    "dotnet_interactive": {
     "language": "csharp"
    }
   },
   "outputs": [
    {
     "name": "stdout",
     "output_type": "stream",
     "text": [
      "example_var = 10g\n",
      "example_var.follow_lerp(delay = 1)\r\n"
     ]
    }
   ],
   "source": [
    "// Constant Variable\n",
    "SPWN.Generator.PrintToConsole(\n",
    "    new SPWN.Basics.SPWNCodes {\n",
    "        SPWN.Utilities.Basics.CreateConstantVariable(\"example_var\", out var exampleVar, new SPWN.DataTypes.Group(10)),\n",
    "\n",
    "        exampleVar.FollowPlayerY(Delay: 1)\n",
    "    }\n",
    ")"
   ]
  },
  {
   "cell_type": "markdown",
   "metadata": {},
   "source": [
    "As you can see, every mentioning of `exampleVar` in .NET will be named `example_var` in SPWN.\n",
    "\n",
    "Note: SPWN used different naming scheme compared to .NET so if you plan to create some projects and want the code to be read by others, you should also consider that."
   ]
  },
  {
   "cell_type": "code",
   "execution_count": null,
   "metadata": {
    "dotnet_interactive": {
     "language": "csharp"
    }
   },
   "outputs": [
    {
     "data": {
      "text/html": [
       "SPWN.DataTypes.Group"
      ]
     },
     "metadata": {},
     "output_type": "display_data"
    }
   ],
   "source": [
    "// just a side note: The type of constant variable is the exact datatype.\n",
    "exampleVar.GetType()"
   ]
  },
  {
   "cell_type": "markdown",
   "metadata": {},
   "source": [
    "### Example 4\n",
    "Let's look at the mutable variable"
   ]
  },
  {
   "cell_type": "code",
   "execution_count": null,
   "metadata": {
    "dotnet_interactive": {
     "language": "csharp"
    }
   },
   "outputs": [
    {
     "name": "stdout",
     "output_type": "stream",
     "text": [
      "let example_mutable_var = 10\n",
      "example_mutable_var = (example_mutable_var + 10)\n",
      "10g.follow_lerp(delay = example_mutable_var)\r\n"
     ]
    }
   ],
   "source": [
    "// Mutable Variable\n",
    "SPWN.Generator.PrintToConsole(\n",
    "    new SPWN.Basics.SPWNCodes {\n",
    "        SPWN.Utilities.Basics.CreateMutableVariable(\"example_mutable_var\", out var exampleMutableVar, new SPWN.DataTypes.Number(10)),\n",
    "\n",
    "        // Every time you need to reference to the value, you need to use MutableVar.Value\n",
    "        // Setting new Value uses Variable<Type>.Value.SetNewValue(Value: ...)\n",
    "        exampleMutableVar.SetNewValue(exampleMutableVar.Value + 10),\n",
    "        // Also, there is an auto-add parentheses when using the operators. We will try to improve that system next time.\n",
    "        // As of now... please live with the unnessary parentheses.\n",
    "\n",
    "        new SPWN.DataTypes.Group(10).FollowPlayerY(Delay: exampleMutableVar.Value)\n",
    "    }\n",
    ")"
   ]
  },
  {
   "cell_type": "code",
   "execution_count": null,
   "metadata": {
    "dotnet_interactive": {
     "language": "csharp"
    }
   },
   "outputs": [
    {
     "data": {
      "text/html": [
       "SPWN.Basics.Variable&lt;SPWN.DataTypes.Number&gt;"
      ]
     },
     "metadata": {},
     "output_type": "display_data"
    },
    {
     "data": {
      "text/html": [
       "SPWN.DataTypes.Number"
      ]
     },
     "metadata": {},
     "output_type": "display_data"
    }
   ],
   "source": [
    "// Side note: The type of mutable variable is Variable<Type>, not the actual type.\n",
    "exampleMutableVar.GetType().Display();\n",
    "\n",
    "// Variable<Type>.Value returns the value of type Type.\n",
    "exampleMutableVar.Value.GetType().Display();"
   ]
  },
  {
   "cell_type": "markdown",
   "metadata": {
    "dotnet_interactive": {
     "language": "csharp"
    }
   },
   "source": [
    "## Implicit conversions, Library, TriggerFunction, Ifs, and `RunDotNetCode()`"
   ]
  },
  {
   "cell_type": "markdown",
   "metadata": {},
   "source": [
    "### Implicit conversions\n",
    "There are implicit conversions defined from .NET types to SPWN.DataTypes"
   ]
  },
  {
   "cell_type": "code",
   "execution_count": null,
   "metadata": {
    "dotnet_interactive": {
     "language": "csharp"
    }
   },
   "outputs": [],
   "source": [
    "// Array\n",
    "\n",
    "SPWN.DataTypes.Number number = 1; // = 1, You probably notice this one in the earier example already\n",
    "\n",
    "SPWN.DataTypes.Group group = 1; // = 1g\n",
    "\n",
    "SPWN.DataTypes.Item item = 1; // = 1i\n",
    "\n",
    "SPWN.DataTypes.Array<SPWN.DataTypes.Group> ArrayOfGroups = new SPWN.DataTypes.Group[] { 1, 2, 3, 4, 5, 6 };"
   ]
  },
  {
   "cell_type": "markdown",
   "metadata": {},
   "source": [
    "### `RunDotNetCode()`\n",
    "\n",
    "If you would like to, you can run .NET code in the middle of creating a list of SPWNCodes.\n",
    "\n",
    "**.NET Code will NOT be translated to SPWN Code. It will only be run in .NET runtime.**\n",
    "\n",
    "Two overloads\n",
    "* `RunDotNetCode(Action)` is used if you do not need to use any variables inside.\n",
    "* `RunDotNetCode(Func<SPWNCode>)` is used if you need to create a SPWN code but would like to use the variable inside temperary."
   ]
  },
  {
   "cell_type": "code",
   "execution_count": null,
   "metadata": {
    "dotnet_interactive": {
     "language": "csharp"
    }
   },
   "outputs": [
    {
     "name": "stdout",
     "output_type": "stream",
     "text": [
      "// [.NET] Number = 7\n",
      "$.print(7)\r\n"
     ]
    }
   ],
   "source": [
    "uint Number = 0;\n",
    "\n",
    "SPWN.Generator.PrintToConsole(\n",
    "    new SPWN.Basics.SPWNCodes {\n",
    "        SPWN.Utilities.Basics.RunDotNetCode(delegate\n",
    "        {\n",
    "            // You can use any C# code work outside of SPWN context\n",
    "            // Do any crazy things here you want\n",
    "            string str = \"7\";\n",
    "            byte[] byteAray = System.Text.Encoding.UTF8.GetBytes(str);\n",
    "            string backToStrJustForExamplePurpose = System.Text.Encoding.UTF8.GetString(byteAray);\n",
    "    \n",
    "            Number = System.Convert.ToUInt32(backToStrJustForExamplePurpose);\n",
    "            return SPWN.Utilities.Basics.Comment($\"[.NET] {nameof(Number)} = {Number}\");\n",
    "        }),\n",
    "        SPWN.Builtins.CompileTime.Print(new SPWN.DataTypes.Number(Number))\n",
    "    }\n",
    ");"
   ]
  },
  {
   "cell_type": "markdown",
   "metadata": {},
   "source": [
    "### Gamescene Library\n",
    "You can import Gamescene library by using the following code "
   ]
  },
  {
   "cell_type": "code",
   "execution_count": null,
   "metadata": {
    "dotnet_interactive": {
     "language": "csharp"
    }
   },
   "outputs": [],
   "source": [
    "CreateConstantVariable(\"gs\", out var gs, new SPWN.Libraries.Gamescene());"
   ]
  },
  {
   "cell_type": "markdown",
   "metadata": {},
   "source": [
    "### Trigger Function\n",
    "Trigger function can be created like this"
   ]
  },
  {
   "cell_type": "code",
   "execution_count": null,
   "metadata": {
    "dotnet_interactive": {
     "language": "csharp"
    }
   },
   "outputs": [
    {
     "name": "stdout",
     "output_type": "stream",
     "text": [
      "my_trigger_func = !{\n",
      "    1g.move_to(x = 10,y = 10)\n",
      "}\n",
      "my_trigger_func!\r\n"
     ]
    }
   ],
   "source": [
    "var group1 = SPWN.DataTypes.Group.FromId(1);\n",
    "\n",
    "SPWN.Generator.PrintToConsole(\n",
    "    new SPWN.Basics.SPWNCodes {\n",
    "        // Define as variable\n",
    "        SPWN.Utilities.Basics.CreateConstantVariable(\"my_trigger_func\", out var myTriggerFunc,\n",
    "            new SPWN.DataTypes.TriggerFunction(\n",
    "                new SPWN.Basics.SPWNCodes\n",
    "                {\n",
    "                    group1.MoveToXY(X: 10, Y: 10)\n",
    "                }\n",
    "            )\n",
    "        ),\n",
    "        \n",
    "        // Call\n",
    "        myTriggerFunc.Invoke()\n",
    "    }\n",
    ")"
   ]
  },
  {
   "cell_type": "markdown",
   "metadata": {},
   "source": [
    "### If\n",
    "Conditions can be defined in this way"
   ]
  },
  {
   "cell_type": "code",
   "execution_count": null,
   "metadata": {
    "dotnet_interactive": {
     "language": "csharp"
    }
   },
   "outputs": [
    {
     "name": "stdout",
     "output_type": "stream",
     "text": [
      "if ((counter(source = 20)) > 10) {\n",
      "    $.print(\"A is more than 10\")\n",
      "} else {\n",
      "    $.print(\"A is not more than 10\")\n",
      "}\r\n"
     ]
    }
   ],
   "source": [
    "// Some variable on top\n",
    "SPWN.DataTypes.Counter A = SPWN.DataTypes.Counter.FromNumber(20);\n",
    "\n",
    "SPWN.Generator.PrintToConsole(\n",
    "    new SPWN.Basics.SPWNCodes\n",
    "    {\n",
    "        // Condition\n",
    "        SPWN.Conditions.If(A > 10,\n",
    "            Do: new SPWN.Basics.SPWNCodes\n",
    "            {\n",
    "                SPWN.Builtins.CompileTime.Print(new SPWN.DataTypes.String(\"A is more than 10\"))\n",
    "            },\n",
    "            Else: // If your code is only 1 line, you do not need to create SPWN.Basics.SPWNCodes\n",
    "                SPWN.Builtins.CompileTime.Print(new SPWN.DataTypes.String(\"A is not more than 10\"))\n",
    "        )\n",
    "    }\n",
    ");"
   ]
  },
  {
   "cell_type": "markdown",
   "metadata": {},
   "source": [
    "Note that you do not need to name it gs (you can name it to whatever you want)"
   ]
  },
  {
   "cell_type": "markdown",
   "metadata": {},
   "source": [
    "### Example 5\n",
    "\n",
    "**This example is inspired from https://spu7nix.net/spwn/#/triggerlanguage/7selectorpanel. All the credits goes to the SPWN documentation.**\n",
    "\n",
    "Let's look at this example\n",
    "\n",
    "**Note: I did not fully qualify some of the names here!**"
   ]
  },
  {
   "cell_type": "code",
   "execution_count": null,
   "metadata": {
    "dotnet_interactive": {
     "language": "csharp"
    }
   },
   "outputs": [],
   "source": [
    "using SPWN;\n",
    "using static SPWN.Utilities.Basics;\n",
    "\n",
    "SPWN.DataTypes.Array<SPWN.DataTypes.Group> ArrayOfGroups = new SPWN.DataTypes.Group[] { 1, 2, 3, 4, 5, 6 };\n",
    "\n",
    "uint Number = 0;\n",
    "\n",
    "var Codes = new SPWN.Basics.SPWNCodes\n",
    "{\n",
    "    NewLine(),\n",
    "\n",
    "    // Comment is from SPWN.Utilities.Basics\n",
    "    Comment(\"Groups of the objects that decide the position of\"),\n",
    "    Comment(\"our buttons\"),\n",
    "\n",
    "    // CreateConstantVariable is from SPWN.Utilities.Basics\n",
    "    CreateConstantVariable(\"anchors\", out var anchors, ArrayOfGroups),\n",
    "\n",
    "    // NewLine is from SPWN.Utilities.Basics\n",
    "    NewLine(),\n",
    "    Comment(\"Group of the object that indicates which\"),\n",
    "    Comment(\"button is currently selected\"),\n",
    "\n",
    "    \n",
    "    // CreateConstantVariable is from SPWN.Utilities.Basics\n",
    "    // This code is actually unnecessary, but for sake of example...\n",
    "    RunDotNetCode(delegate\n",
    "    {\n",
    "        var str = \"7\";\n",
    "        var byteAray = System.Text.Encoding.UTF8.GetBytes(str);\n",
    "        var backToStrJustForExamplePurpose = System.Text.Encoding.UTF8.GetString(byteAray);\n",
    "\n",
    "        Number = System.Convert.ToUInt32(backToStrJustForExamplePurpose);\n",
    "    }),\n",
    "\n",
    "    CreateConstantVariable(\"selector\", out var selector, SPWN.DataTypes.Group.FromId(Number)),\n",
    "\n",
    "    NewLine(),\n",
    "\n",
    "    CreateConstantVariable(\"gs\", out var Gamescene, new SPWN.Libraries.Gamescene()),\n",
    "\n",
    "    NewLine(),\n",
    "    \n",
    "\n",
    "    Comment(\"starts at first button (index 0)\"),\n",
    "\n",
    "    CreateConstantVariable(\"selected\",out var selected, SPWN.DataTypes.Counter.FromNumber(0)),\n",
    "\n",
    "    NewLine(),\n",
    "\n",
    "    Gamescene.ButtonA().OnTriggered(new SPWN.DataTypes.TriggerFunction( new SPWN.Basics.SPWNCodes\n",
    "    {\n",
    "        Comment(\"switch\"),\n",
    "        \n",
    "        // counter.add(num) is the same as counter += num;\n",
    "        selected.Add(1),\n",
    "\n",
    "        SPWN.Conditions.If(selected >= anchors.Length,\n",
    "            Do: new SPWN.Basics.SPWNCodes\n",
    "            {\n",
    "                // You can't override = operator in C# so we need to use Counter.Assign()\n",
    "                Comment(\"Cannot override _assign_ in .NET so... have to do this\"),\n",
    "                selected.Assign(0)\n",
    "            }\n",
    "        ),\n",
    "\n",
    "        Comment(\"convert selected to a normal number\"),\n",
    "\n",
    "        CreateConstantVariable(\"current_anchor\", out var current_anchor, anchors[selected.ToConst((0,anchors.Length))]),\n",
    "\n",
    "        selector.MoveTo(current_anchor)\n",
    "    }))\n",
    "};"
   ]
  },
  {
   "cell_type": "code",
   "execution_count": null,
   "metadata": {
    "dotnet_interactive": {
     "language": "csharp"
    }
   },
   "outputs": [
    {
     "name": "stdout",
     "output_type": "stream",
     "text": [
      "\n",
      "// Groups of the objects that decide the position of\n",
      "// our buttons\n",
      "anchors = [1g,2g,3g,4g,5g,6g]\n",
      "\n",
      "// Group of the object that indicates which\n",
      "// button is currently selected\n",
      "// [null command]\n",
      "selector = 7g\n",
      "\n",
      "gs = import gamescene\n",
      "\n",
      "// starts at first button (index 0)\n",
      "selected = counter(source = 0)\n",
      "\n",
      "gs.button_a().on_triggered(function = !{\n",
      "    // switch\n",
      "    selected.add(num = 1)\n",
      "    if (selected >= anchors.length) {\n",
      "        // Cannot override _assign_ in .NET so... have to do this\n",
      "        selected._assign_(num = 0)\n",
      "    }\n",
      "    // convert selected to a normal number\n",
      "    current_anchor = anchors[selected.to_const(range = 0..anchors.length)]\n",
      "    selector.move_to(target = current_anchor)\n",
      "})\r\n"
     ]
    }
   ],
   "source": [
    "Generator.PrintToConsole(\n",
    "    Codes: Codes\n",
    ");"
   ]
  },
  {
   "cell_type": "markdown",
   "metadata": {},
   "source": [
    "Let's try compile it"
   ]
  },
  {
   "cell_type": "code",
   "execution_count": null,
   "metadata": {
    "dotnet_interactive": {
     "language": "csharp"
    }
   },
   "outputs": [
    {
     "name": "stdout",
     "output_type": "stream",
     "text": [
      "\u001b[0m\u001b[32mParsing ...\r\n",
      "\u001b[0m\u001b[0m\u001b[36mBuilding script ...\r\n",
      "\u001b[0m\u001b[0m\u001b[37m———————————————————————————\r\n",
      "\r\n",
      "\u001b[0m\u001b[0m\u001b[37m———————————————————————————\r\n",
      "\r\n",
      "\u001b[0m\u001b[0m\u001b[32mBuilt in 107 milliseconds!\r\n",
      "\u001b[0m\u001b[0m\u001b[36mOptimizing triggers...\r\n",
      "\u001b[0m\u001b[0m\u001b[37m174 objects added\r\n",
      "\u001b[0m\u001b[0m\u001b[35m\r\n",
      "Level:\r\n",
      "\u001b[0m\u001b[0m\u001b[37m25 groups\r\n",
      "\u001b[0m\u001b[0m\u001b[37m2 block IDs\r\n",
      "\u001b[0m\u001b[0m\u001b[37m1 item IDs\r\n",
      "\u001b[0mOutput: 1,1007,2,15,3,2115,10,0,35,0,51,8,57,9.1001,62,1,87,1,108,1;1,1268,2,0,3,2085,51,9,57,0.1001,63,0,108,1;1,1612,2,17,3,2055,57,9.1001,62,1,87,1,108,1;1,1815,2,18,3,2025,51,10,56,1,57,9.1001,62,1,80,2,87,1,93,0,95,1,108,1;1,1817,2,45,3,2115,57,10.1001,62,1,77,1,80,1,87,1,108,1;1,1811,2,46,3,2085,51,11,56,1,57,10.1001,62,1,77,5,80,1,87,1,88,1,108,1;1,1811,2,47,3,2055,51,12,56,1,57,10.1001,62,1,77,6,80,1,87,1,88,2,108,1;1,1049,2,48,3,2025,51,13,56,1,57,10.1001,62,1,87,1,108,1;1,1268,2,75,3,2115,51,12,57,13.1001,62,1,63,0,87,1,108,1;1,1049,2,135,3,2115,51,13,56,0,57,11.1001,62,1,87,1,108,1;1,1049,2,136,3,2085,51,14,56,0,57,11.1001,62,1,87,1,108,1;1,1049,2,137,3,2055,51,15,56,0,57,11.1001,62,1,87,1,108,1;1,1811,2,138,3,2025,51,15,56,1,57,11.1001,62,1,77,32767,80,1,87,1,88,1,108,1;1,1049,2,139,3,1995,51,14,56,1,57,11.1001,62,1,87,1,108,1;1,1817,2,140,3,1965,57,11.15.14.1001,62,1,77,-32768,80,1,87,1,108,1;1,1049,2,141,3,1935,51,14,56,0,57,11.1001,62,1,87,1,108,1;1,1049,2,142,3,1905,51,15,56,0,57,11.1001,62,1,87,1,108,1;1,1811,2,143,3,1875,51,15,56,1,57,11.1001,62,1,77,16383,80,1,87,1,88,1,108,1;1,1049,2,144,3,1845,51,14,56,1,57,11.1001,62,1,87,1,108,1;1,1817,2,145,3,1815,57,11.15.14.1001,62,1,77,-16384,80,1,87,1,108,1;1,1049,2,146,3,1785,51,14,56,0,57,11.1001,62,1,87,1,108,1;1,1049,2,147,3,1755,51,15,56,0,57,11.1001,62,1,87,1,108,1;1,1811,2,148,3,1725,51,15,56,1,57,11.1001,62,1,77,8191,80,1,87,1,88,1,108,1;1,1049,2,149,3,1695,51,14,56,1,57,11.1001,62,1,87,1,108,1;1,1817,2,150,3,1665,57,11.15.14.1001,62,1,77,-8192,80,1,87,1,108,1;1,1049,2,151,3,1635,51,14,56,0,57,11.1001,62,1,87,1,108,1;1,1049,2,152,3,1605,51,15,56,0,57,11.1001,62,1,87,1,108,1;1,1811,2,153,3,1575,51,15,56,1,57,11.1001,62,1,77,4095,80,1,87,1,88,1,108,1;1,1049,2,154,3,1545,51,14,56,1,57,11.1001,62,1,87,1,108,1;1,1817,2,155,3,1515,57,11.15.14.1001,62,1,77,-4096,80,1,87,1,108,1;1,1049,2,156,3,1485,51,14,56,0,57,11.1001,62,1,87,1,108,1;1,1049,2,157,3,1455,51,15,56,0,57,11.1001,62,1,87,1,108,1;1,1811,2,158,3,1425,51,15,56,1,57,11.1001,62,1,77,2047,80,1,87,1,88,1,108,1;1,1049,2,159,3,1395,51,14,56,1,57,11.1001,62,1,87,1,108,1;1,1817,2,160,3,1365,57,11.15.14.1001,62,1,77,-2048,80,1,87,1,108,1;1,1049,2,161,3,1335,51,14,56,0,57,11.1001,62,1,87,1,108,1;1,1049,2,162,3,1305,51,15,56,0,57,11.1001,62,1,87,1,108,1;1,1811,2,163,3,1275,51,15,56,1,57,11.1001,62,1,77,1023,80,1,87,1,88,1,108,1;1,1049,2,164,3,1245,51,14,56,1,57,11.1001,62,1,87,1,108,1;1,1817,2,165,3,2115,57,11.15.14.1001,62,1,77,-1024,80,1,87,1,108,1;1,1049,2,166,3,2085,51,14,56,0,57,11.1001,62,1,87,1,108,1;1,1049,2,167,3,2055,51,15,56,0,57,11.1001,62,1,87,1,108,1;1,1811,2,168,3,2025,51,15,56,1,57,11.1001,62,1,77,511,80,1,87,1,88,1,108,1;1,1049,2,169,3,1995,51,14,56,1,57,11.1001,62,1,87,1,108,1;1,1817,2,170,3,1965,57,11.15.14.1001,62,1,77,-512,80,1,87,1,108,1;1,1049,2,171,3,1935,51,14,56,0,57,11.1001,62,1,87,1,108,1;1,1049,2,172,3,1905,51,15,56,0,57,11.1001,62,1,87,1,108,1;1,1811,2,173,3,1875,51,15,56,1,57,11.1001,62,1,77,255,80,1,87,1,88,1,108,1;1,1049,2,174,3,1845,51,14,56,1,57,11.1001,62,1,87,1,108,1;1,1817,2,175,3,1815,57,11.15.14.1001,62,1,77,-256,80,1,87,1,108,1;1,1049,2,176,3,1785,51,14,56,0,57,11.1001,62,1,87,1,108,1;1,1049,2,177,3,1755,51,15,56,0,57,11.1001,62,1,87,1,108,1;1,1811,2,178,3,1725,51,15,56,1,57,11.1001,62,1,77,127,80,1,87,1,88,1,108,1;1,1049,2,179,3,1695,51,14,56,1,57,11.1001,62,1,87,1,108,1;1,1817,2,180,3,1665,57,11.15.14.1001,62,1,77,-128,80,1,87,1,108,1;1,1049,2,181,3,1635,51,14,56,0,57,11.1001,62,1,87,1,108,1;1,1049,2,182,3,1605,51,15,56,0,57,11.1001,62,1,87,1,108,1;1,1811,2,183,3,1575,51,15,56,1,57,11.1001,62,1,77,63,80,1,87,1,88,1,108,1;1,1049,2,184,3,1545,51,14,56,1,57,11.1001,62,1,87,1,108,1;1,1817,2,185,3,1515,57,11.15.14.1001,62,1,77,-64,80,1,87,1,108,1;1,1049,2,186,3,1485,51,14,56,0,57,11.1001,62,1,87,1,108,1;1,1049,2,187,3,1455,51,15,56,0,57,11.1001,62,1,87,1,108,1;1,1811,2,188,3,1425,51,15,56,1,57,11.1001,62,1,77,31,80,1,87,1,88,1,108,1;1,1049,2,189,3,1395,51,14,56,1,57,11.1001,62,1,87,1,108,1;1,1817,2,190,3,1365,57,11.15.14.1001,62,1,77,-32,80,1,87,1,108,1;1,1049,2,191,3,1335,51,14,56,0,57,11.1001,62,1,87,1,108,1;1,1049,2,192,3,1305,51,15,56,0,57,11.1001,62,1,87,1,108,1;1,1811,2,193,3,1275,51,15,56,1,57,11.1001,62,1,77,15,80,1,87,1,88,1,108,1;1,1049,2,194,3,1245,51,14,56,1,57,11.1001,62,1,87,1,108,1;1,1817,2,195,3,2115,57,11.15.14.1001,62,1,77,-16,80,1,87,1,108,1;1,1049,2,196,3,2085,51,14,56,0,57,11.1001,62,1,87,1,108,1;1,1049,2,197,3,2055,51,15,56,0,57,11.1001,62,1,87,1,108,1;1,1811,2,198,3,2025,51,15,56,1,57,11.1001,62,1,77,7,80,1,87,1,88,1,108,1;1,1049,2,199,3,1995,51,14,56,1,57,11.1001,62,1,87,1,108,1;1,1817,2,200,3,1965,57,11.15.14.1001,62,1,77,-8,80,1,87,1,108,1;1,1049,2,201,3,1935,51,14,56,0,57,11.1001,62,1,87,1,108,1;1,1049,2,202,3,1905,51,15,56,0,57,11.1001,62,1,87,1,108,1;1,1811,2,203,3,1875,51,15,56,1,57,11.1001,62,1,77,3,80,1,87,1,88,1,108,1;1,1049,2,204,3,1845,51,14,56,1,57,11.1001,62,1,87,1,108,1;1,1817,2,205,3,1815,57,11.15.14.1001,62,1,77,-4,80,1,87,1,108,1;1,1049,2,206,3,1785,51,14,56,0,57,11.1001,62,1,87,1,108,1;1,1049,2,207,3,1755,51,15,56,0,57,11.1001,62,1,87,1,108,1;1,1811,2,208,3,1725,51,15,56,1,57,11.1001,62,1,77,1,80,1,87,1,88,1,108,1;1,1049,2,209,3,1695,51,14,56,1,57,11.1001,62,1,87,1,108,1;1,1817,2,210,3,1665,57,11.15.14.1001,62,1,77,-2,80,1,87,1,108,1;1,1049,2,211,3,1635,51,14,56,0,57,11.1001,62,1,87,1,108,1;1,1049,2,212,3,1605,51,15,56,0,57,11.1001,62,1,87,1,108,1;1,1811,2,213,3,1575,51,15,56,1,57,11.1001,62,1,77,0,80,1,87,1,88,1,108,1;1,1049,2,214,3,1545,51,14,56,1,57,11.1001,62,1,87,1,108,1;1,1817,2,215,3,1515,57,11.15.14.1001,62,1,77,-1,80,1,87,1,108,1;1,1268,2,216,3,1485,51,12,57,11.1001,62,1,63,0,87,1,108,1;1,1049,2,225,3,2115,51,16,56,0,57,12.1001,62,1,87,1,108,1;1,1049,2,226,3,2085,51,17,56,0,57,12.1001,62,1,87,1,108,1;1,1811,2,227,3,2055,51,17,56,1,57,12.1001,62,1,77,0,80,1,87,1,88,0,108,1;1,1049,2,228,3,2025,51,16,56,1,57,12.1001,62,1,87,1,108,1;1,1049,2,229,3,1995,51,18,56,0,57,12.17.16.1001,62,1,87,1,108,1;1,1049,2,230,3,1965,51,19,56,0,57,12.17.16.1001,62,1,87,1,108,1;1,1049,2,231,3,1935,51,20,56,0,57,12.17.16.1001,62,1,87,1,108,1;1,1049,2,232,3,1905,51,21,56,0,57,12.17.16.1001,62,1,87,1,108,1;1,1049,2,233,3,1875,51,22,56,0,57,12.17.16.1001,62,1,87,1,108,1;1,1268,2,234,3,1845,51,23,57,12.17.16.1001,62,1,63,0,87,1,108,1;1,1049,2,235,3,1815,51,16,56,0,57,12.1001,62,1,87,1,108,1;1,1049,2,236,3,1785,51,17,56,0,57,12.1001,62,1,87,1,108,1;1,1811,2,237,3,1755,51,17,56,1,57,12.1001,62,1,77,1,80,1,87,1,88,0,108,1;1,1049,2,238,3,1725,51,16,56,1,57,12.1001,62,1,87,1,108,1;1,1049,2,239,3,1695,51,23,56,0,57,12.17.16.1001,62,1,87,1,108,1;1,1049,2,240,3,1665,51,19,56,0,57,12.17.16.1001,62,1,87,1,108,1;1,1049,2,241,3,1635,51,20,56,0,57,12.17.16.1001,62,1,87,1,108,1;1,1049,2,242,3,1605,51,21,56,0,57,12.17.16.1001,62,1,87,1,108,1;1,1049,2,243,3,1575,51,22,56,0,57,12.17.16.1001,62,1,87,1,108,1;1,1268,2,244,3,1545,51,18,57,12.17.16.1001,62,1,63,0,87,1,108,1;1,1049,2,245,3,1515,51,16,56,0,57,12.1001,62,1,87,1,108,1;1,1049,2,246,3,1485,51,17,56,0,57,12.1001,62,1,87,1,108,1;1,1811,2,247,3,1455,51,17,56,1,57,12.1001,62,1,77,2,80,1,87,1,88,0,108,1;1,1049,2,248,3,1425,51,16,56,1,57,12.1001,62,1,87,1,108,1;1,1049,2,249,3,1395,51,23,56,0,57,12.17.16.1001,62,1,87,1,108,1;1,1049,2,250,3,1365,51,18,56,0,57,12.17.16.1001,62,1,87,1,108,1;1,1049,2,251,3,1335,51,20,56,0,57,12.17.16.1001,62,1,87,1,108,1;1,1049,2,252,3,1305,51,21,56,0,57,12.17.16.1001,62,1,87,1,108,1;1,1049,2,253,3,1275,51,22,56,0,57,12.17.16.1001,62,1,87,1,108,1;1,1268,2,254,3,1245,51,19,57,12.17.16.1001,62,1,63,0,87,1,108,1;1,1049,2,255,3,2115,51,16,56,0,57,12.1001,62,1,87,1,108,1;1,1049,2,256,3,2085,51,17,56,0,57,12.1001,62,1,87,1,108,1;1,1811,2,257,3,2055,51,17,56,1,57,12.1001,62,1,77,3,80,1,87,1,88,0,108,1;1,1049,2,258,3,2025,51,16,56,1,57,12.1001,62,1,87,1,108,1;1,1049,2,259,3,1995,51,23,56,0,57,12.17.16.1001,62,1,87,1,108,1;1,1049,2,260,3,1965,51,18,56,0,57,12.17.16.1001,62,1,87,1,108,1;1,1049,2,261,3,1935,51,19,56,0,57,12.17.16.1001,62,1,87,1,108,1;1,1049,2,262,3,1905,51,21,56,0,57,12.17.16.1001,62,1,87,1,108,1;1,1049,2,263,3,1875,51,22,56,0,57,12.17.16.1001,62,1,87,1,108,1;1,1268,2,264,3,1845,51,20,57,12.17.16.1001,62,1,63,0,87,1,108,1;1,1049,2,265,3,1815,51,16,56,0,57,12.1001,62,1,87,1,108,1;1,1049,2,266,3,1785,51,17,56,0,57,12.1001,62,1,87,1,108,1;1,1811,2,267,3,1755,51,17,56,1,57,12.1001,62,1,77,4,80,1,87,1,88,0,108,1;1,1049,2,268,3,1725,51,16,56,1,57,12.1001,62,1,87,1,108,1;1,1049,2,269,3,1695,51,23,56,0,57,12.17.16.1001,62,1,87,1,108,1;1,1049,2,270,3,1665,51,18,56,0,57,12.17.16.1001,62,1,87,1,108,1;1,1049,2,271,3,1635,51,19,56,0,57,12.17.16.1001,62,1,87,1,108,1;1,1049,2,272,3,1605,51,20,56,0,57,12.17.16.1001,62,1,87,1,108,1;1,1049,2,273,3,1575,51,22,56,0,57,12.17.16.1001,62,1,87,1,108,1;1,1268,2,274,3,1545,51,21,57,12.17.16.1001,62,1,63,0,87,1,108,1;1,1049,2,275,3,1515,51,16,56,0,57,12.1001,62,1,87,1,108,1;1,1049,2,276,3,1485,51,17,56,0,57,12.1001,62,1,87,1,108,1;1,1811,2,277,3,1455,51,17,56,1,57,12.1001,62,1,77,5,80,1,87,1,88,0,108,1;1,1049,2,278,3,1425,51,16,56,1,57,12.1001,62,1,87,1,108,1;1,1049,2,279,3,1395,51,23,56,0,57,12.17.16.1001,62,1,87,1,108,1;1,1049,2,280,3,1365,51,18,56,0,57,12.17.16.1001,62,1,87,1,108,1;1,1049,2,281,3,1335,51,19,56,0,57,12.17.16.1001,62,1,87,1,108,1;1,1049,2,282,3,1305,51,20,56,0,57,12.17.16.1001,62,1,87,1,108,1;1,1049,2,283,3,1275,51,21,56,0,57,12.17.16.1001,62,1,87,1,108,1;1,1268,2,284,3,1245,51,22,57,12.17.16.1001,62,1,63,0,87,1,108,1;1,1049,2,285,3,2115,51,23,56,1,57,12.1001,62,1,87,1,108,1;1,1049,2,286,3,2085,51,18,56,1,57,12.1001,62,1,87,1,108,1;1,1049,2,287,3,2055,51,19,56,1,57,12.1001,62,1,87,1,108,1;1,1049,2,288,3,2025,51,20,56,1,57,12.1001,62,1,87,1,108,1;1,1049,2,289,3,1995,51,21,56,1,57,12.1001,62,1,87,1,108,1;1,1049,2,290,3,1965,51,22,56,1,57,12.1001,62,1,87,1,108,1;1,901,2,315,3,2115,10,0,30,0,51,7,57,23.1001,62,1,71,1,85,2,87,1,100,1,101,0,108,1;1,901,2,375,3,2115,10,0,30,0,51,7,57,18.1001,62,1,71,2,85,2,87,1,100,1,101,0,108,1;1,901,2,435,3,2115,10,0,30,0,51,7,57,19.1001,62,1,71,3,85,2,87,1,100,1,101,0,108,1;1,901,2,495,3,2115,10,0,30,0,51,7,57,20.1001,62,1,71,4,85,2,87,1,100,1,101,0,108,1;1,901,2,555,3,2115,10,0,30,0,51,7,57,21.1001,62,1,71,5,85,2,87,1,100,1,101,0,108,1;1,901,2,615,3,2115,10,0,30,0,51,7,57,22.1001,62,1,71,6,85,2,87,1,100,1,101,0,108,1;1,747,2,19,3,0,54,90,57,8.1001,;1,286,2,30,3,90,57,8.1001,;1,660,2,15,3,90,57,8.1001,;1,101,2,15,3,90,57,8.1001,;1,901,2,60,3,130,10,999,51,24,57,1001,58,1,59,0,;1,1814,2,60,3,160,10,999,51,25,57,1001,90,1,91,0,92,0,105,0,;1,1,2,60,3,52.500,57,8.24.1001,;1,1,2,52.500,3,15,57,8.24.1001,;1,1816,2,60,3,30,57,8.24.25.1001,80,2,94,1,;1,1816,2,60,3,64,57,8.24.1001,80,1,94,0,;1,1755,2,60,3,45,32,2,57,8.24.1001,;\r\n",
      "\r\n",
      "\u001b[0m\r\n",
      "\r\n",
      "SPWN exited with code 0\r\n"
     ]
    }
   ],
   "source": [
    "Generator.WriteAndCompile(\n",
    "    Codes: Codes,\n",
    "    LevelConsoleOutput: true,\n",
    "    WaitForExit: true\n",
    ");"
   ]
  },
  {
   "cell_type": "code",
   "execution_count": null,
   "metadata": {
    "dotnet_interactive": {
     "language": "csharp"
    }
   },
   "outputs": [],
   "source": [
    "// Generator.WriteAndCompile will write some files on the working directory. If you want to delete those files then...\n",
    "System.IO.File.Delete(\"main.spwn\");"
   ]
  },
  {
   "cell_type": "markdown",
   "metadata": {},
   "source": [
    "## More examples coming up later on.\n",
    "If you wish to see other examples not-so-well-explained, here it is -> https://github.com/Get0457/dotnet-SPWN-generator/blob/master/SPWNTestProject/Program.cs"
   ]
  }
 ],
 "metadata": {
  "kernelspec": {
   "display_name": ".NET (C#)",
   "language": "C#",
   "name": ".net-csharp"
  },
  "language_info": {
   "name": "C#"
  }
 },
 "nbformat": 4,
 "nbformat_minor": 2
}
